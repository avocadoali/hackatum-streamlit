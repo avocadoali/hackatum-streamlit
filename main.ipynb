{
 "cells": [
  {
   "cell_type": "code",
   "execution_count": 35,
   "metadata": {},
   "outputs": [],
   "source": [
    "from dotenv import load_dotenv\n",
    "import os\n",
    "import streamlit as st\n",
    "import requests\n",
    "import time\n"
   ]
  },
  {
   "cell_type": "code",
   "execution_count": null,
   "metadata": {},
   "outputs": [],
   "source": [
    "\n",
    "\n",
    "def post(audio_url, vide_url):\n",
    "    payload = {\n",
    "        \"audioUrl\": audio_url,\n",
    "        \"videoUrl\": video_url,\n",
    "        \"synergize\": False,\n",
    "        \"maxCredits\": None,\n",
    "        \"webhookUrl\": None\n",
    "    }\n",
    "    # Headers\n",
    "    headers = {\n",
    "        'accept': 'application/json',\n",
    "        'x-api-key': api_key,\n",
    "        'Content-Type': 'application/json',\n",
    "    }\n",
    "\n",
    "    # Make the POST request\n",
    "    response = requests.post(api_url, json=payload, headers=headers)\n",
    "    # Display the response\n",
    "    print(f\"Status Code: {response.status_code}\")\n",
    "    print(\"Response:\")\n",
    "\n",
    "    return response.json()\n"
   ]
  },
  {
   "cell_type": "code",
   "execution_count": null,
   "metadata": {},
   "outputs": [],
   "source": [
    "\n",
    "def fetch_video_data(video_id):\n",
    "    url = f\"https://api.synclabs.so/video/\"+ video_id\n",
    "    headers = {\n",
    "        'accept': 'application/json',\n",
    "        'x-api-key': api_key,\n",
    "    }\n",
    "\n",
    "    response = requests.get(url, headers=headers)\n",
    "\n",
    "    # Display the response\n",
    "    print(f\"Status Code: {response.status_code}\")\n",
    "    print(\"Response:\")\n",
    "\n",
    "    if response.status_code == 200:\n",
    "        return response.json()\n",
    "    else:\n",
    "        return None\n",
    "\n"
   ]
  },
  {
   "cell_type": "code",
   "execution_count": null,
   "metadata": {},
   "outputs": [],
   "source": [
    "\n",
    "def download_video(url, path):\n",
    "    response = requests.get(url, stream=True)\n",
    "    if response.status_code == 200:\n",
    "        with open(path, 'wb') as file:\n",
    "            for chunk in response.iter_content(chunk_size=128):\n",
    "                file.write(chunk)\n",
    "        print(\"Download complete.\")\n",
    "    else:\n",
    "        print(f\"Failed to download the file. Status code: {response.status_code}\")\n",
    "\n"
   ]
  },
  {
   "cell_type": "code",
   "execution_count": null,
   "metadata": {},
   "outputs": [],
   "source": [
    "\n",
    "def run_process(audio_url, video_url, destination_path)\n",
    "    # Upload audio and video file\n",
    "    response = post(audio_url, video_url)\n",
    "    print(response)\n",
    "    video_id = response[\"id\"]\n",
    "    video_id\n",
    "\n",
    "    # Fetch status of process\n",
    "    fetch_response = fetch_video_data(video_id)\n",
    "    print(fetch_response)\n",
    "    while fetch_response[\"status\"] != \"COMPLETED\":\n",
    "        fetch_response = fetch_video_data(video_id)\n",
    "        print(fetch_response) \n",
    "        time.sleep(2)\n",
    "\n",
    "    # Download video\n",
    "    deepfake_video_url = fetch_response[\"url\"]\n",
    "    deepfake_video_url\n",
    "    download_video(deepfake_video_url, destination_path)\n",
    "    video_path= destination_path\n"
   ]
  },
  {
   "cell_type": "code",
   "execution_count": null,
   "metadata": {},
   "outputs": [],
   "source": [
    "\n",
    "\n",
    "# get apikey\n",
    "load_dotenv()\n",
    "api_key = os.getenv(\"API_KEY\")\n",
    "api_url = 'https://api.synclabs.so/video'\n"
   ]
  },
  {
   "cell_type": "code",
   "execution_count": null,
   "metadata": {},
   "outputs": [],
   "source": [
    "\n",
    "# Upload video and audio file\n",
    "audio_url = \"https://playful-froyo-95db49.netlify.app/trump_voice_2.mp3\"\n",
    "video_url = \"https://playful-froyo-95db49.netlify.app/susanne.mp4\"\n",
    "destination_path = \"./app/static/finaloutput/susanne_autogen.mp4\"\n"
   ]
  }
 ],
 "metadata": {
  "kernelspec": {
   "display_name": "env",
   "language": "python",
   "name": "python3"
  },
  "language_info": {
   "codemirror_mode": {
    "name": "ipython",
    "version": 3
   },
   "file_extension": ".py",
   "mimetype": "text/x-python",
   "name": "python",
   "nbconvert_exporter": "python",
   "pygments_lexer": "ipython3",
   "version": "3.11.3"
  },
  "orig_nbformat": 4,
  "vscode": {
   "interpreter": {
    "hash": "65ed11e03579bbdeb3e386afa37c1e4eda1827f3850ec8ac7c1024945d602cdc"
   }
  }
 },
 "nbformat": 4,
 "nbformat_minor": 2
}
